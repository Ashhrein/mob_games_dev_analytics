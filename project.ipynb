{
 "cells": [
  {
   "cell_type": "markdown",
   "metadata": {},
   "source": [
    "# Mobile games development"
   ]
  },
  {
   "cell_type": "markdown",
   "metadata": {},
   "source": [
    "## Задание"
   ]
  },
  {
   "cell_type": "markdown",
   "metadata": {},
   "source": [
    "##### Вам предстоит поработать аналитиком данных в компании, которая разрабатывает мобильные игры. К вам пришел менеджер с рядом задач по исследованию нескольких аспектов мобильного приложения:\n",
    "##### 1) Расчётать Retention (по дням от даты регистрации);\n",
    "##### 2) На основе данных, полученных в ходе проведения A/B теста, определить, какой набор акционных предоложений можно считать лучшим и на основе каких метрик стоит принять правильное решение;\n",
    "##### 3) Предложить метрики для оценки результатов последнего проведенного тематического события в игре."
   ]
  },
  {
   "cell_type": "markdown",
   "metadata": {},
   "source": [
    "## Данные"
   ]
  },
  {
   "cell_type": "markdown",
   "metadata": {},
   "source": [
    "##### Расчёр Retention\n",
    "##### shared/problem1-reg_data.csv – данные о времени регистрации (таблица из 2 колонок):\n",
    "##### 1) reg_ts - время регистрации в формате Unix;\n",
    "##### 2) uid - id пользователя;\n",
    "##### shared/problem1-auth_data.csv – данные о времени захода пользователей в игру (таблица из 2 колонок):\n",
    "##### 1) auth_ts - время повторного входа в игру в формате Unix;\n",
    "##### 2) uid - id пользователя.\n",
    "##### Определение набора акционных предложений\n",
    "##### Проект_1_Задание_2.csv - данные о выручке и группах (таблица из 3 колонок):\n",
    "##### 1) user_id - id пользователя;\n",
    "##### 2) revenue - выручка;\n",
    "##### 3) testgroup - вид группы (a - контрольная, b - тестовая)."
   ]
  },
  {
   "cell_type": "code",
   "execution_count": 5,
   "metadata": {},
   "outputs": [],
   "source": [
    "import pandas as pd\n",
    "\n",
    "task1_reg = pd.read_csv('reg_data.csv', sep=';')\n",
    "task1_auth = pd.read_csv('auth_data.csv', sep=';')"
   ]
  },
  {
   "cell_type": "markdown",
   "metadata": {},
   "source": [
    "### Расчет Retention"
   ]
  },
  {
   "cell_type": "code",
   "execution_count": 6,
   "metadata": {},
   "outputs": [
    {
     "data": {
      "text/html": [
       "<div>\n",
       "<style scoped>\n",
       "    .dataframe tbody tr th:only-of-type {\n",
       "        vertical-align: middle;\n",
       "    }\n",
       "\n",
       "    .dataframe tbody tr th {\n",
       "        vertical-align: top;\n",
       "    }\n",
       "\n",
       "    .dataframe thead th {\n",
       "        text-align: right;\n",
       "    }\n",
       "</style>\n",
       "<table border=\"1\" class=\"dataframe\">\n",
       "  <thead>\n",
       "    <tr style=\"text-align: right;\">\n",
       "      <th></th>\n",
       "      <th>reg_ts</th>\n",
       "      <th>diff</th>\n",
       "      <th>retained</th>\n",
       "      <th>cnt</th>\n",
       "      <th>ret_rate</th>\n",
       "    </tr>\n",
       "  </thead>\n",
       "  <tbody>\n",
       "    <tr>\n",
       "      <th>0</th>\n",
       "      <td>1998-11-18</td>\n",
       "      <td>0</td>\n",
       "      <td>1</td>\n",
       "      <td>1</td>\n",
       "      <td>1.000000</td>\n",
       "    </tr>\n",
       "    <tr>\n",
       "      <th>1</th>\n",
       "      <td>1999-07-22</td>\n",
       "      <td>0</td>\n",
       "      <td>1</td>\n",
       "      <td>1</td>\n",
       "      <td>1.000000</td>\n",
       "    </tr>\n",
       "    <tr>\n",
       "      <th>2</th>\n",
       "      <td>1999-07-22</td>\n",
       "      <td>3</td>\n",
       "      <td>1</td>\n",
       "      <td>1</td>\n",
       "      <td>1.000000</td>\n",
       "    </tr>\n",
       "    <tr>\n",
       "      <th>3</th>\n",
       "      <td>1999-07-22</td>\n",
       "      <td>9</td>\n",
       "      <td>1</td>\n",
       "      <td>1</td>\n",
       "      <td>1.000000</td>\n",
       "    </tr>\n",
       "    <tr>\n",
       "      <th>4</th>\n",
       "      <td>1999-07-22</td>\n",
       "      <td>14</td>\n",
       "      <td>1</td>\n",
       "      <td>1</td>\n",
       "      <td>1.000000</td>\n",
       "    </tr>\n",
       "    <tr>\n",
       "      <th>...</th>\n",
       "      <td>...</td>\n",
       "      <td>...</td>\n",
       "      <td>...</td>\n",
       "      <td>...</td>\n",
       "      <td>...</td>\n",
       "    </tr>\n",
       "    <tr>\n",
       "      <th>2716223</th>\n",
       "      <td>2020-09-21</td>\n",
       "      <td>1</td>\n",
       "      <td>31</td>\n",
       "      <td>1638</td>\n",
       "      <td>0.018926</td>\n",
       "    </tr>\n",
       "    <tr>\n",
       "      <th>2716224</th>\n",
       "      <td>2020-09-21</td>\n",
       "      <td>2</td>\n",
       "      <td>49</td>\n",
       "      <td>1638</td>\n",
       "      <td>0.029915</td>\n",
       "    </tr>\n",
       "    <tr>\n",
       "      <th>2716225</th>\n",
       "      <td>2020-09-22</td>\n",
       "      <td>0</td>\n",
       "      <td>1641</td>\n",
       "      <td>1641</td>\n",
       "      <td>1.000000</td>\n",
       "    </tr>\n",
       "    <tr>\n",
       "      <th>2716226</th>\n",
       "      <td>2020-09-22</td>\n",
       "      <td>1</td>\n",
       "      <td>14</td>\n",
       "      <td>1641</td>\n",
       "      <td>0.008531</td>\n",
       "    </tr>\n",
       "    <tr>\n",
       "      <th>2716227</th>\n",
       "      <td>2020-09-23</td>\n",
       "      <td>0</td>\n",
       "      <td>1048</td>\n",
       "      <td>1048</td>\n",
       "      <td>1.000000</td>\n",
       "    </tr>\n",
       "  </tbody>\n",
       "</table>\n",
       "<p>2716228 rows × 5 columns</p>\n",
       "</div>"
      ],
      "text/plain": [
       "             reg_ts  diff  retained   cnt  ret_rate\n",
       "0        1998-11-18     0         1     1  1.000000\n",
       "1        1999-07-22     0         1     1  1.000000\n",
       "2        1999-07-22     3         1     1  1.000000\n",
       "3        1999-07-22     9         1     1  1.000000\n",
       "4        1999-07-22    14         1     1  1.000000\n",
       "...             ...   ...       ...   ...       ...\n",
       "2716223  2020-09-21     1        31  1638  0.018926\n",
       "2716224  2020-09-21     2        49  1638  0.029915\n",
       "2716225  2020-09-22     0      1641  1641  1.000000\n",
       "2716226  2020-09-22     1        14  1641  0.008531\n",
       "2716227  2020-09-23     0      1048  1048  1.000000\n",
       "\n",
       "[2716228 rows x 5 columns]"
      ]
     },
     "execution_count": 6,
     "metadata": {},
     "output_type": "execute_result"
    }
   ],
   "source": [
    "def retention_by_day(reg_data, auth_data):\n",
    "    \n",
    "    reg_data.reg_ts = pd.to_datetime(reg_data.reg_ts, unit='s').dt.date\n",
    "    auth_data.auth_ts = pd.to_datetime(auth_data.auth_ts, unit='s').dt.date\n",
    "    \n",
    "    merged_data = pd.merge(reg_data, auth_data, on='uid', how='left')\n",
    "    merged_data['diff'] = (merged_data.auth_ts - merged_data.reg_ts).dt.days\n",
    "     \n",
    "    retention_data = merged_data.groupby(['reg_ts', 'diff'], as_index=False).\\\n",
    "                                 agg(retained=('uid', 'nunique'))\n",
    "    \n",
    "    reg_by_day = task1_reg.groupby('reg_ts', as_index=False).\\\n",
    "                           agg(cnt=('uid', 'nunique'))\n",
    "\n",
    "    retention_data = pd.merge(retention_data, reg_by_day, on='reg_ts')\n",
    "    retention_data['ret_rate'] = retention_data.retained / retention_data.cnt\n",
    "    \n",
    "\n",
    "    return retention_data\n",
    "\n",
    "\n",
    "\n",
    "retention_by_day(task1_reg, task1_auth)"
   ]
  },
  {
   "cell_type": "markdown",
   "metadata": {},
   "source": [
    "### Определение набора акционных предложений\n",
    "##### Имеются результаты A/B теста, в котором двум группам пользователей предлагались различные наборы акционных предложений. Известно, что ARPU в тестовой группе выше на 5%, чем в контрольной. При этом в контрольной группе 1928 игроков из 202103 оказались платящими, а в тестовой – 1805 из 202667.\n",
    "##### Какой набор предложений можно считать лучшим? Какие метрики стоит проанализировать для принятия правильного решения и как?"
   ]
  },
  {
   "cell_type": "code",
   "execution_count": 4,
   "metadata": {},
   "outputs": [],
   "source": [
    "task2 = pd.read_csv('sets_shares.csv', sep=';')"
   ]
  },
  {
   "cell_type": "code",
   "execution_count": 74,
   "metadata": {},
   "outputs": [],
   "source": [
    "# Конверсия в платящего пользователя (CR) - процент платящих пользователей\n",
    "# CR = количество платящих пользователей / общее количество пользователей\n",
    "\n",
    "control_cr = 1928 / 202103\n",
    "test_cr = 1805 / 202667\n",
    "\n",
    "control_cr > test_cr # True, следовательно акционные предложения в тестовой группе менее привлекательны\n",
    "\n",
    "# Средниц доход на платящего пользователя (ARPPU)\n",
    "# ARPPU = общий доход / количество платящих пользователей\n",
    "\n",
    "# Разбиваю датафрейм на 2 (данные о контрольной и тестовой группах)\n",
    "control = task2.query('testgroup==\"a\"')\n",
    "test = task2.query('testgroup==\"b\"')\n",
    "\n",
    "# Нахожу общие доходы групу\n",
    "ctrl_com_rev = sum(control.revenue)\n",
    "tst_com_rev = sum(test.revenue)\n",
    "\n",
    "# Считаю количество платящих пользователей каждой группы\n",
    "ctrl_pay_users = control.query('revenue!=0').\\\n",
    "                         revenue.count()\n",
    "test_pay_users = test.query('revenue!=0').\\\n",
    "                      revenue.count()\n",
    "\n",
    "# Нахожу ARPPU каждой группы\n",
    "ctrl_arppu = ctrl_com_rev / ctrl_pay_users # 2663.9984439834025\n",
    "test_arppu = tst_com_rev / test_pay_users # 3003.6581717451522\n",
    "\n",
    "diff = ctrl_arppu - test_arppu # 339.65972776174976\n",
    "\n",
    "# Разница сильно велика, поэтому делаю вывод о том, что тестовый набор предложений лучше"
   ]
  },
  {
   "cell_type": "markdown",
   "metadata": {},
   "source": [
    "### Метрики для оценки события\n",
    "##### В игре Plants & Gardens каждый месяц проводятся тематические события, ограниченные по времени. В них игроки могут получить уникальные предметы для сада и персонажей, дополнительные монеты или бонусы. Для получения награды требуется пройти ряд уровней за определенное время. С помощью каких метрик можно оценить результаты последнего прошедшего события?\n",
    "##### Предположим, в другом событии мы усложнили механику событий так, что при каждой неудачной попытке выполнения уровня игрок будет откатываться на несколько уровней назад. Изменится ли набор метрик оценки результата? Если да, то как?"
   ]
  },
  {
   "cell_type": "code",
   "execution_count": 9,
   "metadata": {},
   "outputs": [],
   "source": [
    "# Метрики для обычного события\n",
    "\n",
    "# Количество новых игроков во время проведения события\n",
    "# Среднее время игрового сеасна игроков\n",
    "# Средний прогресс игроков в событии (уровень после завершения события)\n",
    "# Количество игроков, которые получили все награды, прошли событие до конца\n",
    "# ARPU\n",
    "# ARPPU\n",
    "# Конверсия в платящего пользователя\n",
    "# Retention\n",
    "\n",
    "\n",
    "# Метрики для события с усложненной механикой (остаются прошлые метрики и добавляются новые):\n",
    "\n",
    "# Среднее количетсво откатов игроков\n",
    "# Среднее количество уровней, на которые откатились игроки\n",
    "# Уровень фрустрации (процент оттока после отката уровней)\n",
    "# ARPPU откатившихся игроков"
   ]
  }
 ],
 "metadata": {
  "kernelspec": {
   "display_name": "Python 3",
   "language": "python",
   "name": "python3"
  },
  "language_info": {
   "codemirror_mode": {
    "name": "ipython",
    "version": 3
   },
   "file_extension": ".py",
   "mimetype": "text/x-python",
   "name": "python",
   "nbconvert_exporter": "python",
   "pygments_lexer": "ipython3",
   "version": "3.7.3"
  }
 },
 "nbformat": 4,
 "nbformat_minor": 4
}
