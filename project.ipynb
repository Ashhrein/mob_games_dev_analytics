{
 "cells": [
  {
   "cell_type": "markdown",
   "metadata": {},
   "source": [
    "# Mobile games development"
   ]
  },
  {
   "cell_type": "markdown",
   "metadata": {},
   "source": [
    "## Задание"
   ]
  },
  {
   "cell_type": "markdown",
   "metadata": {},
   "source": [
    "##### Вам предстоит поработать аналитиком данных в компании, которая разрабатывает мобильные игры. К вам пришел менеджер с рядом задач по исследованию нескольких аспектов мобильного приложения:\n",
    "##### 1) Расчётать Retention (по дням от даты регистрации);\n",
    "##### 2) На основе данных, полученных в ходе проведения A/B теста, определить, какой набор акционных предоложений можно считать лучшим и на основе каких метрик стоит принять правильное решение;\n",
    "##### 3) Предложить метрики для оценки результатов последнего проведенного тематического события в игре."
   ]
  },
  {
   "cell_type": "markdown",
   "metadata": {},
   "source": [
    "## Данные"
   ]
  },
  {
   "cell_type": "markdown",
   "metadata": {},
   "source": [
    "##### Расчёр Retention\n",
    "##### reg_data.csv – данные о времени регистрации (таблица из 2 колонок):\n",
    "##### 1) reg_ts - время регистрации в формате Unix;\n",
    "##### 2) uid - id пользователя;\n",
    "##### auth_data.csv – данные о времени захода пользователей в игру (таблица из 2 колонок):\n",
    "##### 1) auth_ts - время повторного входа в игру в формате Unix;\n",
    "##### 2) uid - id пользователя.\n",
    "##### Определение набора акционных предложений\n",
    "##### sets_sahres.csv - данные о выручке и группах (таблица из 3 колонок):\n",
    "##### 1) user_id - id пользователя;\n",
    "##### 2) revenue - выручка;\n",
    "##### 3) testgroup - вид группы (a - контрольная, b - тестовая)."
   ]
  },
   ],
   "source": [
    "import pandas as pd\n",
    "import numpy as np\n",
    "from operator import attrgetter\n",
    "\n",
    "task1_reg = pd.read_csv('reg_data.csv', sep=';')\n",
    "task1_auth = pd.read_csv('auth_data.csv', sep=';')"
   ]
  },
  {
   "cell_type": "code",
   "execution_count": null,
   "metadata": {},
   "outputs": [],
   "source": [
    "task1_reg.head()"
   ]
  },
  {
   "cell_type": "code",
   "execution_count": null,
   "metadata": {},
   "outputs": [],
   "source": [
    "task1_reg.tail()"
   ]
  },
  {
   "cell_type": "code",
   "execution_count": null,
   "metadata": {},
   "outputs": [],
   "source": [
    "task1_reg.shape"
   ]
  },
  {
   "cell_type": "code",
   "execution_count": null,
   "metadata": {},
   "outputs": [],
   "source": [
    "task1_reg.isna().sum()"
   ]
  },
  {
   "cell_type": "code",
   "execution_count": null,
   "metadata": {},
   "outputs": [],
   "source": [
    "task1_auth.head()"
   ]
  },
  {
   "cell_type": "code",
   "execution_count": null,
   "metadata": {},
   "outputs": [],
   "source": [
    "task1_auth.tail()"
   ]
  },
  {
   "cell_type": "code",
   "execution_count": null,
   "metadata": {},
   "outputs": [],
   "source": [
    "task1_auth.shape"
   ]
  },
  {
   "cell_type": "code",
   "execution_count": null,
   "metadata": {},
   "outputs": [],
   "source": [
    "task1_auth.isna().sum()"
   ]
  },
  {
   "cell_type": "code",
   "execution_count": null,
   "metadata": {},
   "outputs": [],
   "source": [
    "# Данные о повторном входе в приложение содержат данные о регистрации,\n",
    "# поэтому дальше использую только второй датафрейм (task1_auth)"
   ]
  },
  {
   "cell_type": "markdown",
   "metadata": {},
   "source": [
    "### Расчет Retention"
   ]
  },
  {
   "cell_type": "code",
   "execution_count": 3,
   "metadata": {},
   "outputs": [],
   "source": [
    "def retention(data):\n",
    "    \"\"\"\n",
    "    Перевожу данные о времени входа в приложение из формата unix\n",
    "\n",
    "    Извлекаю день и месяц входа\n",
    "    \n",
    "    Присваиваю когорты на основе данных о первом входе в приложение для каждого пользователя\n",
    "    \n",
    "    Рассчитываю номер месячного периода (делю на 30)\n",
    "    \n",
    "    Агрегирую данные по когортам и рассчитанному номеру месячного периода\n",
    "    \n",
    "    Создаю сводную таблицу для когортного анализа\n",
    "    \n",
    "    Рассчитываю размеры когорт (первый столбец сводной таблицы)\n",
    "    \n",
    "    Вычисляю коэффициенты удержания (делю на размер когорты)\n",
    "    \"\"\"\n",
    "\n",
    "    data.auth_ts = pd.to_datetime(data.auth_ts, unit='s')\n",
    "    \n",
    "    data['order_period'] = data.auth_ts.dt.to_period('M')\n",
    "    data['order_period_day'] = data.auth_ts.dt.to_period('D')\n",
    "    \n",
    "    data['cohort'] = data.groupby('uid').\\\n",
    "                          auth_ts.transform('min').\\\n",
    "                          dt.to_period('M')\n",
    "    data['cohort_day'] = data.groupby('uid').\\\n",
    "                              auth_ts.transform('min').\\\n",
    "                              dt.to_period('D')\n",
    "    \n",
    "    data['period_number_month'] = np.floor((data.order_period_day - data.cohort_day).apply(attrgetter('n')) / 30)\n",
    "    \n",
    "    df_chohort = data.groupby(['cohort', 'period_number_month']).\\\n",
    "                      agg(n_customers=('uid', 'nunique')).\\\n",
    "                      reset_index()\n",
    "    \n",
    "    cohort_pivot = df_chohort.pivot_table(index='cohort', columns='period_number_month', values='n_customers')\n",
    "    \n",
    "    cohort_size = cohort_pivot.iloc[:, 0]\n",
    "    \n",
    "    retention_matrix = cohort_pivot.divide(cohort_size, axis=0)\n",
    "    \n",
    "    \n",
    "    return retention_matrix"
   ]
  },
   ],
   "source": [
    "retention(task1_auth)"
   ]
  },
  {
   "cell_type": "markdown",
   "metadata": {},
   "source": [
    "### Определение набора акционных предложений\n",
    "##### Имеются результаты A/B теста, в котором двум группам пользователей предлагались различные наборы акционных предложений. Известно, что ARPU в тестовой группе выше на 5%, чем в контрольной. При этом в контрольной группе 1928 игроков из 202103 оказались платящими, а в тестовой – 1805 из 202667.\n",
    "##### Какой набор предложений можно считать лучшим? Какие метрики стоит проанализировать для принятия правильного решения и как?"
   ]
  },
  {
   "cell_type": "code",
   "execution_count": 4,
   "metadata": {},
   "outputs": [],
   "source": [
    "task2 = pd.read_csv('sets_shares.csv', sep=';')"
   ]
  },
  {
   "cell_type": "code",
   "execution_count": 74,
   "metadata": {},
   "outputs": [],
   "source": [
    "# Конверсия в платящего пользователя (CR) - процент платящих пользователей\n",
    "# CR = количество платящих пользователей / общее количество пользователей\n",
    "\n",
    "control_cr = 1928 / 202103\n",
    "test_cr = 1805 / 202667\n",
    "\n",
    "control_cr > test_cr # True, следовательно акционные предложения в тестовой группе менее привлекательны\n",
    "\n",
    "# Средниц доход на платящего пользователя (ARPPU)\n",
    "# ARPPU = общий доход / количество платящих пользователей\n",
    "\n",
    "# Разбиваю датафрейм на 2 (данные о контрольной и тестовой группах)\n",
    "control = task2.query('testgroup==\"a\"')\n",
    "test = task2.query('testgroup==\"b\"')\n",
    "\n",
    "# Нахожу общие доходы групу\n",
    "ctrl_com_rev = sum(control.revenue)\n",
    "tst_com_rev = sum(test.revenue)\n",
    "\n",
    "# Считаю количество платящих пользователей каждой группы\n",
    "ctrl_pay_users = control.query('revenue!=0').\\\n",
    "                         revenue.count()\n",
    "test_pay_users = test.query('revenue!=0').\\\n",
    "                      revenue.count()\n",
    "\n",
    "# Нахожу ARPPU каждой группы\n",
    "ctrl_arppu = ctrl_com_rev / ctrl_pay_users # 2663.9984439834025\n",
    "test_arppu = tst_com_rev / test_pay_users # 3003.6581717451522\n",
    "\n",
    "diff = ctrl_arppu - test_arppu # 339.65972776174976\n",
    "\n",
    "# Разница сильно велика, поэтому делаю вывод о том, что тестовый набор предложений лучше"
   ]
  },
  {
   "cell_type": "markdown",
   "metadata": {},
   "source": [
    "### Метрики для оценки события\n",
    "##### В игре Plants & Gardens каждый месяц проводятся тематические события, ограниченные по времени. В них игроки могут получить уникальные предметы для сада и персонажей, дополнительные монеты или бонусы. Для получения награды требуется пройти ряд уровней за определенное время. С помощью каких метрик можно оценить результаты последнего прошедшего события?\n",
    "##### Предположим, в другом событии мы усложнили механику событий так, что при каждой неудачной попытке выполнения уровня игрок будет откатываться на несколько уровней назад. Изменится ли набор метрик оценки результата? Если да, то как?"
   ]
  },
  {
   "cell_type": "code",
   "execution_count": 9,
   "metadata": {},
   "outputs": [],
   "source": [
    "# Метрики для обычного события\n",
    "\n",
    "# Количество новых игроков во время проведения события\n",
    "# Среднее время игрового сеасна игроков\n",
    "# Средний прогресс игроков в событии (уровень после завершения события)\n",
    "# Количество игроков, которые получили все награды, прошли событие до конца\n",
    "# ARPU\n",
    "# ARPPU\n",
    "# Конверсия в платящего пользователя\n",
    "# Retention\n",
    "\n",
    "\n",
    "# Метрики для события с усложненной механикой (остаются прошлые метрики и добавляются новые):\n",
    "\n",
    "# Среднее количетсво откатов игроков\n",
    "# Среднее количество уровней, на которые откатились игроки\n",
    "# Уровень фрустрации (процент оттока после отката уровней)\n",
    "# ARPPU откатившихся игроков"
   ]
  }
 ],
 "metadata": {
  "kernelspec": {
   "display_name": "Python 3",
   "language": "python",
   "name": "python3"
  },
  "language_info": {
   "codemirror_mode": {
    "name": "ipython",
    "version": 3
   },
   "file_extension": ".py",
   "mimetype": "text/x-python",
   "name": "python",
   "nbconvert_exporter": "python",
   "pygments_lexer": "ipython3",
   "version": "3.7.3"
  }
 },
 "nbformat": 4,
 "nbformat_minor": 4
}
